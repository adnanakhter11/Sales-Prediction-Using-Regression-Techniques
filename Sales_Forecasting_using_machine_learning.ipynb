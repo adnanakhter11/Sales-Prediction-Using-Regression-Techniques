{
  "nbformat": 4,
  "nbformat_minor": 0,
  "metadata": {
    "colab": {
      "provenance": [],
      "gpuType": "T4",
      "mount_file_id": "1FKphHcMixgVYc31bkVY9P1L-q_jkugQ5",
      "authorship_tag": "ABX9TyO18MX0gaj76b5GCPY8EWXW",
      "include_colab_link": true
    },
    "kernelspec": {
      "name": "python3",
      "display_name": "Python 3"
    },
    "language_info": {
      "name": "python"
    },
    "accelerator": "GPU"
  },
  "cells": [
    {
      "cell_type": "markdown",
      "metadata": {
        "id": "view-in-github",
        "colab_type": "text"
      },
      "source": [
        "<a href=\"https://colab.research.google.com/github/adnanakhter11/Sales-Prediction-Using-Regression-Techniques/blob/main/Sales_Forecasting_using_machine_learning.ipynb\" target=\"_parent\"><img src=\"https://colab.research.google.com/assets/colab-badge.svg\" alt=\"Open In Colab\"/></a>"
      ]
    },
    {
      "cell_type": "markdown",
      "source": [
        "# Sales Prediction Using Regression Techniques"
      ],
      "metadata": {
        "id": "VTQNy3nEtqAy"
      }
    },
    {
      "cell_type": "code",
      "execution_count": null,
      "metadata": {
        "id": "3LM5NiYZPgJ8"
      },
      "outputs": [],
      "source": [
        "import pandas as pd\n",
        "import numpy as np\n",
        "import matplotlib.pyplot as plt\n",
        "%matplotlib inline\n",
        "import seaborn as sns\n",
        "import sklearn\n",
        "from sklearn.model_selection import train_test_split"
      ]
    },
    {
      "cell_type": "code",
      "source": [
        "df=pd.read_csv('/content/drive/MyDrive/Client 1/walmart1.csv')\n",
        "df.head()"
      ],
      "metadata": {
        "colab": {
          "base_uri": "https://localhost:8080/",
          "height": 206
        },
        "id": "pFISEt5nQr6l",
        "outputId": "6cdf854d-52dd-4ec0-969b-0ca9ab2f0c70"
      },
      "execution_count": null,
      "outputs": [
        {
          "output_type": "execute_result",
          "data": {
            "text/plain": [
              "   Store  IsHoliday  Dept  Type  Temperature  Fuel_Price  MarkDown1  \\\n",
              "0      1          0     1     3        42.31       2.572        0.0   \n",
              "1      1          0    26     3        42.31       2.572        0.0   \n",
              "2      1          0    17     3        42.31       2.572        0.0   \n",
              "3      1          0    45     3        42.31       2.572        0.0   \n",
              "4      1          0    28     3        42.31       2.572        0.0   \n",
              "\n",
              "   MarkDown2  MarkDown3  MarkDown4  MarkDown5         CPI  Unemployment  \\\n",
              "0        0.0        0.0        0.0        0.0  211.096358         8.106   \n",
              "1        0.0        0.0        0.0        0.0  211.096358         8.106   \n",
              "2        0.0        0.0        0.0        0.0  211.096358         8.106   \n",
              "3        0.0        0.0        0.0        0.0  211.096358         8.106   \n",
              "4        0.0        0.0        0.0        0.0  211.096358         8.106   \n",
              "\n",
              "   Weekly_Sales  \n",
              "0      24924.50  \n",
              "1      11737.12  \n",
              "2      13223.76  \n",
              "3         37.44  \n",
              "4       1085.29  "
            ],
            "text/html": [
              "\n",
              "  <div id=\"df-827c1bbb-f16c-43ea-b27d-e5b8077e1d67\">\n",
              "    <div class=\"colab-df-container\">\n",
              "      <div>\n",
              "<style scoped>\n",
              "    .dataframe tbody tr th:only-of-type {\n",
              "        vertical-align: middle;\n",
              "    }\n",
              "\n",
              "    .dataframe tbody tr th {\n",
              "        vertical-align: top;\n",
              "    }\n",
              "\n",
              "    .dataframe thead th {\n",
              "        text-align: right;\n",
              "    }\n",
              "</style>\n",
              "<table border=\"1\" class=\"dataframe\">\n",
              "  <thead>\n",
              "    <tr style=\"text-align: right;\">\n",
              "      <th></th>\n",
              "      <th>Store</th>\n",
              "      <th>IsHoliday</th>\n",
              "      <th>Dept</th>\n",
              "      <th>Type</th>\n",
              "      <th>Temperature</th>\n",
              "      <th>Fuel_Price</th>\n",
              "      <th>MarkDown1</th>\n",
              "      <th>MarkDown2</th>\n",
              "      <th>MarkDown3</th>\n",
              "      <th>MarkDown4</th>\n",
              "      <th>MarkDown5</th>\n",
              "      <th>CPI</th>\n",
              "      <th>Unemployment</th>\n",
              "      <th>Weekly_Sales</th>\n",
              "    </tr>\n",
              "  </thead>\n",
              "  <tbody>\n",
              "    <tr>\n",
              "      <th>0</th>\n",
              "      <td>1</td>\n",
              "      <td>0</td>\n",
              "      <td>1</td>\n",
              "      <td>3</td>\n",
              "      <td>42.31</td>\n",
              "      <td>2.572</td>\n",
              "      <td>0.0</td>\n",
              "      <td>0.0</td>\n",
              "      <td>0.0</td>\n",
              "      <td>0.0</td>\n",
              "      <td>0.0</td>\n",
              "      <td>211.096358</td>\n",
              "      <td>8.106</td>\n",
              "      <td>24924.50</td>\n",
              "    </tr>\n",
              "    <tr>\n",
              "      <th>1</th>\n",
              "      <td>1</td>\n",
              "      <td>0</td>\n",
              "      <td>26</td>\n",
              "      <td>3</td>\n",
              "      <td>42.31</td>\n",
              "      <td>2.572</td>\n",
              "      <td>0.0</td>\n",
              "      <td>0.0</td>\n",
              "      <td>0.0</td>\n",
              "      <td>0.0</td>\n",
              "      <td>0.0</td>\n",
              "      <td>211.096358</td>\n",
              "      <td>8.106</td>\n",
              "      <td>11737.12</td>\n",
              "    </tr>\n",
              "    <tr>\n",
              "      <th>2</th>\n",
              "      <td>1</td>\n",
              "      <td>0</td>\n",
              "      <td>17</td>\n",
              "      <td>3</td>\n",
              "      <td>42.31</td>\n",
              "      <td>2.572</td>\n",
              "      <td>0.0</td>\n",
              "      <td>0.0</td>\n",
              "      <td>0.0</td>\n",
              "      <td>0.0</td>\n",
              "      <td>0.0</td>\n",
              "      <td>211.096358</td>\n",
              "      <td>8.106</td>\n",
              "      <td>13223.76</td>\n",
              "    </tr>\n",
              "    <tr>\n",
              "      <th>3</th>\n",
              "      <td>1</td>\n",
              "      <td>0</td>\n",
              "      <td>45</td>\n",
              "      <td>3</td>\n",
              "      <td>42.31</td>\n",
              "      <td>2.572</td>\n",
              "      <td>0.0</td>\n",
              "      <td>0.0</td>\n",
              "      <td>0.0</td>\n",
              "      <td>0.0</td>\n",
              "      <td>0.0</td>\n",
              "      <td>211.096358</td>\n",
              "      <td>8.106</td>\n",
              "      <td>37.44</td>\n",
              "    </tr>\n",
              "    <tr>\n",
              "      <th>4</th>\n",
              "      <td>1</td>\n",
              "      <td>0</td>\n",
              "      <td>28</td>\n",
              "      <td>3</td>\n",
              "      <td>42.31</td>\n",
              "      <td>2.572</td>\n",
              "      <td>0.0</td>\n",
              "      <td>0.0</td>\n",
              "      <td>0.0</td>\n",
              "      <td>0.0</td>\n",
              "      <td>0.0</td>\n",
              "      <td>211.096358</td>\n",
              "      <td>8.106</td>\n",
              "      <td>1085.29</td>\n",
              "    </tr>\n",
              "  </tbody>\n",
              "</table>\n",
              "</div>\n",
              "      <button class=\"colab-df-convert\" onclick=\"convertToInteractive('df-827c1bbb-f16c-43ea-b27d-e5b8077e1d67')\"\n",
              "              title=\"Convert this dataframe to an interactive table.\"\n",
              "              style=\"display:none;\">\n",
              "        \n",
              "  <svg xmlns=\"http://www.w3.org/2000/svg\" height=\"24px\"viewBox=\"0 0 24 24\"\n",
              "       width=\"24px\">\n",
              "    <path d=\"M0 0h24v24H0V0z\" fill=\"none\"/>\n",
              "    <path d=\"M18.56 5.44l.94 2.06.94-2.06 2.06-.94-2.06-.94-.94-2.06-.94 2.06-2.06.94zm-11 1L8.5 8.5l.94-2.06 2.06-.94-2.06-.94L8.5 2.5l-.94 2.06-2.06.94zm10 10l.94 2.06.94-2.06 2.06-.94-2.06-.94-.94-2.06-.94 2.06-2.06.94z\"/><path d=\"M17.41 7.96l-1.37-1.37c-.4-.4-.92-.59-1.43-.59-.52 0-1.04.2-1.43.59L10.3 9.45l-7.72 7.72c-.78.78-.78 2.05 0 2.83L4 21.41c.39.39.9.59 1.41.59.51 0 1.02-.2 1.41-.59l7.78-7.78 2.81-2.81c.8-.78.8-2.07 0-2.86zM5.41 20L4 18.59l7.72-7.72 1.47 1.35L5.41 20z\"/>\n",
              "  </svg>\n",
              "      </button>\n",
              "      \n",
              "  <style>\n",
              "    .colab-df-container {\n",
              "      display:flex;\n",
              "      flex-wrap:wrap;\n",
              "      gap: 12px;\n",
              "    }\n",
              "\n",
              "    .colab-df-convert {\n",
              "      background-color: #E8F0FE;\n",
              "      border: none;\n",
              "      border-radius: 50%;\n",
              "      cursor: pointer;\n",
              "      display: none;\n",
              "      fill: #1967D2;\n",
              "      height: 32px;\n",
              "      padding: 0 0 0 0;\n",
              "      width: 32px;\n",
              "    }\n",
              "\n",
              "    .colab-df-convert:hover {\n",
              "      background-color: #E2EBFA;\n",
              "      box-shadow: 0px 1px 2px rgba(60, 64, 67, 0.3), 0px 1px 3px 1px rgba(60, 64, 67, 0.15);\n",
              "      fill: #174EA6;\n",
              "    }\n",
              "\n",
              "    [theme=dark] .colab-df-convert {\n",
              "      background-color: #3B4455;\n",
              "      fill: #D2E3FC;\n",
              "    }\n",
              "\n",
              "    [theme=dark] .colab-df-convert:hover {\n",
              "      background-color: #434B5C;\n",
              "      box-shadow: 0px 1px 3px 1px rgba(0, 0, 0, 0.15);\n",
              "      filter: drop-shadow(0px 1px 2px rgba(0, 0, 0, 0.3));\n",
              "      fill: #FFFFFF;\n",
              "    }\n",
              "  </style>\n",
              "\n",
              "      <script>\n",
              "        const buttonEl =\n",
              "          document.querySelector('#df-827c1bbb-f16c-43ea-b27d-e5b8077e1d67 button.colab-df-convert');\n",
              "        buttonEl.style.display =\n",
              "          google.colab.kernel.accessAllowed ? 'block' : 'none';\n",
              "\n",
              "        async function convertToInteractive(key) {\n",
              "          const element = document.querySelector('#df-827c1bbb-f16c-43ea-b27d-e5b8077e1d67');\n",
              "          const dataTable =\n",
              "            await google.colab.kernel.invokeFunction('convertToInteractive',\n",
              "                                                     [key], {});\n",
              "          if (!dataTable) return;\n",
              "\n",
              "          const docLinkHtml = 'Like what you see? Visit the ' +\n",
              "            '<a target=\"_blank\" href=https://colab.research.google.com/notebooks/data_table.ipynb>data table notebook</a>'\n",
              "            + ' to learn more about interactive tables.';\n",
              "          element.innerHTML = '';\n",
              "          dataTable['output_type'] = 'display_data';\n",
              "          await google.colab.output.renderOutput(dataTable, element);\n",
              "          const docLink = document.createElement('div');\n",
              "          docLink.innerHTML = docLinkHtml;\n",
              "          element.appendChild(docLink);\n",
              "        }\n",
              "      </script>\n",
              "    </div>\n",
              "  </div>\n",
              "  "
            ]
          },
          "metadata": {},
          "execution_count": 824
        }
      ]
    },
    {
      "cell_type": "code",
      "source": [
        "df.shape"
      ],
      "metadata": {
        "colab": {
          "base_uri": "https://localhost:8080/"
        },
        "id": "3OObBpk_TlIy",
        "outputId": "80e64856-d046-46ac-c2bd-8ce7b540e424"
      },
      "execution_count": null,
      "outputs": [
        {
          "output_type": "execute_result",
          "data": {
            "text/plain": [
              "(196596, 14)"
            ]
          },
          "metadata": {},
          "execution_count": 825
        }
      ]
    },
    {
      "cell_type": "code",
      "source": [
        "df.info()"
      ],
      "metadata": {
        "colab": {
          "base_uri": "https://localhost:8080/"
        },
        "id": "Cd7uZyk0URPi",
        "outputId": "c5f86657-d020-4c70-aecb-62f84cce9938"
      },
      "execution_count": null,
      "outputs": [
        {
          "output_type": "stream",
          "name": "stdout",
          "text": [
            "<class 'pandas.core.frame.DataFrame'>\n",
            "RangeIndex: 196596 entries, 0 to 196595\n",
            "Data columns (total 14 columns):\n",
            " #   Column        Non-Null Count   Dtype  \n",
            "---  ------        --------------   -----  \n",
            " 0   Store         196596 non-null  int64  \n",
            " 1   IsHoliday     196596 non-null  int64  \n",
            " 2   Dept          196596 non-null  int64  \n",
            " 3   Type          196596 non-null  int64  \n",
            " 4   Temperature   196596 non-null  float64\n",
            " 5   Fuel_Price    196596 non-null  float64\n",
            " 6   MarkDown1     196596 non-null  float64\n",
            " 7   MarkDown2     196596 non-null  float64\n",
            " 8   MarkDown3     196596 non-null  float64\n",
            " 9   MarkDown4     196596 non-null  float64\n",
            " 10  MarkDown5     196596 non-null  float64\n",
            " 11  CPI           196596 non-null  float64\n",
            " 12  Unemployment  196596 non-null  float64\n",
            " 13  Weekly_Sales  196596 non-null  float64\n",
            "dtypes: float64(10), int64(4)\n",
            "memory usage: 21.0 MB\n"
          ]
        }
      ]
    },
    {
      "cell_type": "code",
      "source": [
        "df.describe()"
      ],
      "metadata": {
        "colab": {
          "base_uri": "https://localhost:8080/",
          "height": 364
        },
        "id": "4DwQj742UUEq",
        "outputId": "3d5c352d-3be0-4ec9-d80a-4c6901d8f893"
      },
      "execution_count": null,
      "outputs": [
        {
          "output_type": "execute_result",
          "data": {
            "text/plain": [
              "               Store      IsHoliday           Dept           Type  \\\n",
              "count  196596.000000  196596.000000  196596.000000  196596.000000   \n",
              "mean       10.529141       0.069813      43.644103       2.516358   \n",
              "std         5.790181       0.254833      29.732729       0.499734   \n",
              "min         1.000000       0.000000       1.000000       2.000000   \n",
              "25%         6.000000       0.000000      19.000000       2.000000   \n",
              "50%        11.000000       0.000000      36.000000       3.000000   \n",
              "75%        16.000000       0.000000      71.000000       3.000000   \n",
              "max        20.000000       1.000000      99.000000       3.000000   \n",
              "\n",
              "         Temperature     Fuel_Price      MarkDown1      MarkDown2  \\\n",
              "count  196596.000000  196596.000000  196596.000000  196596.000000   \n",
              "mean       60.349429       3.332516    2847.873829    1056.018997   \n",
              "std        18.507802       0.453028    6305.998602    6084.344814   \n",
              "min         6.230000       2.514000       0.000000       0.000000   \n",
              "25%        47.170000       2.902000       0.000000       0.000000   \n",
              "50%        62.530000       3.407000       0.000000       0.000000   \n",
              "75%        74.880000       3.701000    3504.090000       9.940000   \n",
              "max        99.220000       4.468000   78124.500000  104519.540000   \n",
              "\n",
              "           MarkDown3      MarkDown4      MarkDown5            CPI  \\\n",
              "count  196596.000000  196596.000000  196596.000000  196596.000000   \n",
              "mean      591.504350    1202.097252    1699.899753     178.128650   \n",
              "std      6477.732256    4030.240563    3735.484697      40.226660   \n",
              "min         0.000000       0.000000       0.000000     126.064000   \n",
              "25%         0.000000       0.000000       0.000000     131.136000   \n",
              "50%         0.000000       0.000000       0.000000     192.422595   \n",
              "75%         5.580000     646.200000    2447.920000     215.126827   \n",
              "max    141630.610000   57817.560000   58068.140000     227.232807   \n",
              "\n",
              "        Unemployment   Weekly_Sales  \n",
              "count  196596.000000  196596.000000  \n",
              "mean        7.588137   17994.724733  \n",
              "std         1.653229   25523.908583  \n",
              "min         3.879000   -1699.000000  \n",
              "25%         6.529000    2739.637500  \n",
              "50%         7.382000    8528.710000  \n",
              "75%         8.185000   22202.570000  \n",
              "max        14.313000  693099.360000  "
            ],
            "text/html": [
              "\n",
              "  <div id=\"df-3047ed4c-4c07-459a-bb5d-51b83d4eb784\">\n",
              "    <div class=\"colab-df-container\">\n",
              "      <div>\n",
              "<style scoped>\n",
              "    .dataframe tbody tr th:only-of-type {\n",
              "        vertical-align: middle;\n",
              "    }\n",
              "\n",
              "    .dataframe tbody tr th {\n",
              "        vertical-align: top;\n",
              "    }\n",
              "\n",
              "    .dataframe thead th {\n",
              "        text-align: right;\n",
              "    }\n",
              "</style>\n",
              "<table border=\"1\" class=\"dataframe\">\n",
              "  <thead>\n",
              "    <tr style=\"text-align: right;\">\n",
              "      <th></th>\n",
              "      <th>Store</th>\n",
              "      <th>IsHoliday</th>\n",
              "      <th>Dept</th>\n",
              "      <th>Type</th>\n",
              "      <th>Temperature</th>\n",
              "      <th>Fuel_Price</th>\n",
              "      <th>MarkDown1</th>\n",
              "      <th>MarkDown2</th>\n",
              "      <th>MarkDown3</th>\n",
              "      <th>MarkDown4</th>\n",
              "      <th>MarkDown5</th>\n",
              "      <th>CPI</th>\n",
              "      <th>Unemployment</th>\n",
              "      <th>Weekly_Sales</th>\n",
              "    </tr>\n",
              "  </thead>\n",
              "  <tbody>\n",
              "    <tr>\n",
              "      <th>count</th>\n",
              "      <td>196596.000000</td>\n",
              "      <td>196596.000000</td>\n",
              "      <td>196596.000000</td>\n",
              "      <td>196596.000000</td>\n",
              "      <td>196596.000000</td>\n",
              "      <td>196596.000000</td>\n",
              "      <td>196596.000000</td>\n",
              "      <td>196596.000000</td>\n",
              "      <td>196596.000000</td>\n",
              "      <td>196596.000000</td>\n",
              "      <td>196596.000000</td>\n",
              "      <td>196596.000000</td>\n",
              "      <td>196596.000000</td>\n",
              "      <td>196596.000000</td>\n",
              "    </tr>\n",
              "    <tr>\n",
              "      <th>mean</th>\n",
              "      <td>10.529141</td>\n",
              "      <td>0.069813</td>\n",
              "      <td>43.644103</td>\n",
              "      <td>2.516358</td>\n",
              "      <td>60.349429</td>\n",
              "      <td>3.332516</td>\n",
              "      <td>2847.873829</td>\n",
              "      <td>1056.018997</td>\n",
              "      <td>591.504350</td>\n",
              "      <td>1202.097252</td>\n",
              "      <td>1699.899753</td>\n",
              "      <td>178.128650</td>\n",
              "      <td>7.588137</td>\n",
              "      <td>17994.724733</td>\n",
              "    </tr>\n",
              "    <tr>\n",
              "      <th>std</th>\n",
              "      <td>5.790181</td>\n",
              "      <td>0.254833</td>\n",
              "      <td>29.732729</td>\n",
              "      <td>0.499734</td>\n",
              "      <td>18.507802</td>\n",
              "      <td>0.453028</td>\n",
              "      <td>6305.998602</td>\n",
              "      <td>6084.344814</td>\n",
              "      <td>6477.732256</td>\n",
              "      <td>4030.240563</td>\n",
              "      <td>3735.484697</td>\n",
              "      <td>40.226660</td>\n",
              "      <td>1.653229</td>\n",
              "      <td>25523.908583</td>\n",
              "    </tr>\n",
              "    <tr>\n",
              "      <th>min</th>\n",
              "      <td>1.000000</td>\n",
              "      <td>0.000000</td>\n",
              "      <td>1.000000</td>\n",
              "      <td>2.000000</td>\n",
              "      <td>6.230000</td>\n",
              "      <td>2.514000</td>\n",
              "      <td>0.000000</td>\n",
              "      <td>0.000000</td>\n",
              "      <td>0.000000</td>\n",
              "      <td>0.000000</td>\n",
              "      <td>0.000000</td>\n",
              "      <td>126.064000</td>\n",
              "      <td>3.879000</td>\n",
              "      <td>-1699.000000</td>\n",
              "    </tr>\n",
              "    <tr>\n",
              "      <th>25%</th>\n",
              "      <td>6.000000</td>\n",
              "      <td>0.000000</td>\n",
              "      <td>19.000000</td>\n",
              "      <td>2.000000</td>\n",
              "      <td>47.170000</td>\n",
              "      <td>2.902000</td>\n",
              "      <td>0.000000</td>\n",
              "      <td>0.000000</td>\n",
              "      <td>0.000000</td>\n",
              "      <td>0.000000</td>\n",
              "      <td>0.000000</td>\n",
              "      <td>131.136000</td>\n",
              "      <td>6.529000</td>\n",
              "      <td>2739.637500</td>\n",
              "    </tr>\n",
              "    <tr>\n",
              "      <th>50%</th>\n",
              "      <td>11.000000</td>\n",
              "      <td>0.000000</td>\n",
              "      <td>36.000000</td>\n",
              "      <td>3.000000</td>\n",
              "      <td>62.530000</td>\n",
              "      <td>3.407000</td>\n",
              "      <td>0.000000</td>\n",
              "      <td>0.000000</td>\n",
              "      <td>0.000000</td>\n",
              "      <td>0.000000</td>\n",
              "      <td>0.000000</td>\n",
              "      <td>192.422595</td>\n",
              "      <td>7.382000</td>\n",
              "      <td>8528.710000</td>\n",
              "    </tr>\n",
              "    <tr>\n",
              "      <th>75%</th>\n",
              "      <td>16.000000</td>\n",
              "      <td>0.000000</td>\n",
              "      <td>71.000000</td>\n",
              "      <td>3.000000</td>\n",
              "      <td>74.880000</td>\n",
              "      <td>3.701000</td>\n",
              "      <td>3504.090000</td>\n",
              "      <td>9.940000</td>\n",
              "      <td>5.580000</td>\n",
              "      <td>646.200000</td>\n",
              "      <td>2447.920000</td>\n",
              "      <td>215.126827</td>\n",
              "      <td>8.185000</td>\n",
              "      <td>22202.570000</td>\n",
              "    </tr>\n",
              "    <tr>\n",
              "      <th>max</th>\n",
              "      <td>20.000000</td>\n",
              "      <td>1.000000</td>\n",
              "      <td>99.000000</td>\n",
              "      <td>3.000000</td>\n",
              "      <td>99.220000</td>\n",
              "      <td>4.468000</td>\n",
              "      <td>78124.500000</td>\n",
              "      <td>104519.540000</td>\n",
              "      <td>141630.610000</td>\n",
              "      <td>57817.560000</td>\n",
              "      <td>58068.140000</td>\n",
              "      <td>227.232807</td>\n",
              "      <td>14.313000</td>\n",
              "      <td>693099.360000</td>\n",
              "    </tr>\n",
              "  </tbody>\n",
              "</table>\n",
              "</div>\n",
              "      <button class=\"colab-df-convert\" onclick=\"convertToInteractive('df-3047ed4c-4c07-459a-bb5d-51b83d4eb784')\"\n",
              "              title=\"Convert this dataframe to an interactive table.\"\n",
              "              style=\"display:none;\">\n",
              "        \n",
              "  <svg xmlns=\"http://www.w3.org/2000/svg\" height=\"24px\"viewBox=\"0 0 24 24\"\n",
              "       width=\"24px\">\n",
              "    <path d=\"M0 0h24v24H0V0z\" fill=\"none\"/>\n",
              "    <path d=\"M18.56 5.44l.94 2.06.94-2.06 2.06-.94-2.06-.94-.94-2.06-.94 2.06-2.06.94zm-11 1L8.5 8.5l.94-2.06 2.06-.94-2.06-.94L8.5 2.5l-.94 2.06-2.06.94zm10 10l.94 2.06.94-2.06 2.06-.94-2.06-.94-.94-2.06-.94 2.06-2.06.94z\"/><path d=\"M17.41 7.96l-1.37-1.37c-.4-.4-.92-.59-1.43-.59-.52 0-1.04.2-1.43.59L10.3 9.45l-7.72 7.72c-.78.78-.78 2.05 0 2.83L4 21.41c.39.39.9.59 1.41.59.51 0 1.02-.2 1.41-.59l7.78-7.78 2.81-2.81c.8-.78.8-2.07 0-2.86zM5.41 20L4 18.59l7.72-7.72 1.47 1.35L5.41 20z\"/>\n",
              "  </svg>\n",
              "      </button>\n",
              "      \n",
              "  <style>\n",
              "    .colab-df-container {\n",
              "      display:flex;\n",
              "      flex-wrap:wrap;\n",
              "      gap: 12px;\n",
              "    }\n",
              "\n",
              "    .colab-df-convert {\n",
              "      background-color: #E8F0FE;\n",
              "      border: none;\n",
              "      border-radius: 50%;\n",
              "      cursor: pointer;\n",
              "      display: none;\n",
              "      fill: #1967D2;\n",
              "      height: 32px;\n",
              "      padding: 0 0 0 0;\n",
              "      width: 32px;\n",
              "    }\n",
              "\n",
              "    .colab-df-convert:hover {\n",
              "      background-color: #E2EBFA;\n",
              "      box-shadow: 0px 1px 2px rgba(60, 64, 67, 0.3), 0px 1px 3px 1px rgba(60, 64, 67, 0.15);\n",
              "      fill: #174EA6;\n",
              "    }\n",
              "\n",
              "    [theme=dark] .colab-df-convert {\n",
              "      background-color: #3B4455;\n",
              "      fill: #D2E3FC;\n",
              "    }\n",
              "\n",
              "    [theme=dark] .colab-df-convert:hover {\n",
              "      background-color: #434B5C;\n",
              "      box-shadow: 0px 1px 3px 1px rgba(0, 0, 0, 0.15);\n",
              "      filter: drop-shadow(0px 1px 2px rgba(0, 0, 0, 0.3));\n",
              "      fill: #FFFFFF;\n",
              "    }\n",
              "  </style>\n",
              "\n",
              "      <script>\n",
              "        const buttonEl =\n",
              "          document.querySelector('#df-3047ed4c-4c07-459a-bb5d-51b83d4eb784 button.colab-df-convert');\n",
              "        buttonEl.style.display =\n",
              "          google.colab.kernel.accessAllowed ? 'block' : 'none';\n",
              "\n",
              "        async function convertToInteractive(key) {\n",
              "          const element = document.querySelector('#df-3047ed4c-4c07-459a-bb5d-51b83d4eb784');\n",
              "          const dataTable =\n",
              "            await google.colab.kernel.invokeFunction('convertToInteractive',\n",
              "                                                     [key], {});\n",
              "          if (!dataTable) return;\n",
              "\n",
              "          const docLinkHtml = 'Like what you see? Visit the ' +\n",
              "            '<a target=\"_blank\" href=https://colab.research.google.com/notebooks/data_table.ipynb>data table notebook</a>'\n",
              "            + ' to learn more about interactive tables.';\n",
              "          element.innerHTML = '';\n",
              "          dataTable['output_type'] = 'display_data';\n",
              "          await google.colab.output.renderOutput(dataTable, element);\n",
              "          const docLink = document.createElement('div');\n",
              "          docLink.innerHTML = docLinkHtml;\n",
              "          element.appendChild(docLink);\n",
              "        }\n",
              "      </script>\n",
              "    </div>\n",
              "  </div>\n",
              "  "
            ]
          },
          "metadata": {},
          "execution_count": 827
        }
      ]
    },
    {
      "cell_type": "code",
      "source": [
        "df.dtypes"
      ],
      "metadata": {
        "colab": {
          "base_uri": "https://localhost:8080/"
        },
        "id": "ME_DSA1wjBLN",
        "outputId": "e9bf33c2-2358-4b4d-c487-8f4bdfe89baa"
      },
      "execution_count": null,
      "outputs": [
        {
          "output_type": "execute_result",
          "data": {
            "text/plain": [
              "Store             int64\n",
              "IsHoliday         int64\n",
              "Dept              int64\n",
              "Type              int64\n",
              "Temperature     float64\n",
              "Fuel_Price      float64\n",
              "MarkDown1       float64\n",
              "MarkDown2       float64\n",
              "MarkDown3       float64\n",
              "MarkDown4       float64\n",
              "MarkDown5       float64\n",
              "CPI             float64\n",
              "Unemployment    float64\n",
              "Weekly_Sales    float64\n",
              "dtype: object"
            ]
          },
          "metadata": {},
          "execution_count": 828
        }
      ]
    },
    {
      "cell_type": "code",
      "source": [
        "df.rename(columns={\"Weekly_Sales\": \"Sales\"}, inplace=True)\n",
        "df.head()"
      ],
      "metadata": {
        "colab": {
          "base_uri": "https://localhost:8080/",
          "height": 206
        },
        "id": "LSL86kSQUa_C",
        "outputId": "4d57c620-892a-4a93-cd6b-3dea4d79b2c9"
      },
      "execution_count": null,
      "outputs": [
        {
          "output_type": "execute_result",
          "data": {
            "text/plain": [
              "   Store  IsHoliday  Dept  Type  Temperature  Fuel_Price  MarkDown1  \\\n",
              "0      1          0     1     3        42.31       2.572        0.0   \n",
              "1      1          0    26     3        42.31       2.572        0.0   \n",
              "2      1          0    17     3        42.31       2.572        0.0   \n",
              "3      1          0    45     3        42.31       2.572        0.0   \n",
              "4      1          0    28     3        42.31       2.572        0.0   \n",
              "\n",
              "   MarkDown2  MarkDown3  MarkDown4  MarkDown5         CPI  Unemployment  \\\n",
              "0        0.0        0.0        0.0        0.0  211.096358         8.106   \n",
              "1        0.0        0.0        0.0        0.0  211.096358         8.106   \n",
              "2        0.0        0.0        0.0        0.0  211.096358         8.106   \n",
              "3        0.0        0.0        0.0        0.0  211.096358         8.106   \n",
              "4        0.0        0.0        0.0        0.0  211.096358         8.106   \n",
              "\n",
              "      Sales  \n",
              "0  24924.50  \n",
              "1  11737.12  \n",
              "2  13223.76  \n",
              "3     37.44  \n",
              "4   1085.29  "
            ],
            "text/html": [
              "\n",
              "  <div id=\"df-96a6bd64-6879-48c7-80fb-fa1f4b73fbd6\">\n",
              "    <div class=\"colab-df-container\">\n",
              "      <div>\n",
              "<style scoped>\n",
              "    .dataframe tbody tr th:only-of-type {\n",
              "        vertical-align: middle;\n",
              "    }\n",
              "\n",
              "    .dataframe tbody tr th {\n",
              "        vertical-align: top;\n",
              "    }\n",
              "\n",
              "    .dataframe thead th {\n",
              "        text-align: right;\n",
              "    }\n",
              "</style>\n",
              "<table border=\"1\" class=\"dataframe\">\n",
              "  <thead>\n",
              "    <tr style=\"text-align: right;\">\n",
              "      <th></th>\n",
              "      <th>Store</th>\n",
              "      <th>IsHoliday</th>\n",
              "      <th>Dept</th>\n",
              "      <th>Type</th>\n",
              "      <th>Temperature</th>\n",
              "      <th>Fuel_Price</th>\n",
              "      <th>MarkDown1</th>\n",
              "      <th>MarkDown2</th>\n",
              "      <th>MarkDown3</th>\n",
              "      <th>MarkDown4</th>\n",
              "      <th>MarkDown5</th>\n",
              "      <th>CPI</th>\n",
              "      <th>Unemployment</th>\n",
              "      <th>Sales</th>\n",
              "    </tr>\n",
              "  </thead>\n",
              "  <tbody>\n",
              "    <tr>\n",
              "      <th>0</th>\n",
              "      <td>1</td>\n",
              "      <td>0</td>\n",
              "      <td>1</td>\n",
              "      <td>3</td>\n",
              "      <td>42.31</td>\n",
              "      <td>2.572</td>\n",
              "      <td>0.0</td>\n",
              "      <td>0.0</td>\n",
              "      <td>0.0</td>\n",
              "      <td>0.0</td>\n",
              "      <td>0.0</td>\n",
              "      <td>211.096358</td>\n",
              "      <td>8.106</td>\n",
              "      <td>24924.50</td>\n",
              "    </tr>\n",
              "    <tr>\n",
              "      <th>1</th>\n",
              "      <td>1</td>\n",
              "      <td>0</td>\n",
              "      <td>26</td>\n",
              "      <td>3</td>\n",
              "      <td>42.31</td>\n",
              "      <td>2.572</td>\n",
              "      <td>0.0</td>\n",
              "      <td>0.0</td>\n",
              "      <td>0.0</td>\n",
              "      <td>0.0</td>\n",
              "      <td>0.0</td>\n",
              "      <td>211.096358</td>\n",
              "      <td>8.106</td>\n",
              "      <td>11737.12</td>\n",
              "    </tr>\n",
              "    <tr>\n",
              "      <th>2</th>\n",
              "      <td>1</td>\n",
              "      <td>0</td>\n",
              "      <td>17</td>\n",
              "      <td>3</td>\n",
              "      <td>42.31</td>\n",
              "      <td>2.572</td>\n",
              "      <td>0.0</td>\n",
              "      <td>0.0</td>\n",
              "      <td>0.0</td>\n",
              "      <td>0.0</td>\n",
              "      <td>0.0</td>\n",
              "      <td>211.096358</td>\n",
              "      <td>8.106</td>\n",
              "      <td>13223.76</td>\n",
              "    </tr>\n",
              "    <tr>\n",
              "      <th>3</th>\n",
              "      <td>1</td>\n",
              "      <td>0</td>\n",
              "      <td>45</td>\n",
              "      <td>3</td>\n",
              "      <td>42.31</td>\n",
              "      <td>2.572</td>\n",
              "      <td>0.0</td>\n",
              "      <td>0.0</td>\n",
              "      <td>0.0</td>\n",
              "      <td>0.0</td>\n",
              "      <td>0.0</td>\n",
              "      <td>211.096358</td>\n",
              "      <td>8.106</td>\n",
              "      <td>37.44</td>\n",
              "    </tr>\n",
              "    <tr>\n",
              "      <th>4</th>\n",
              "      <td>1</td>\n",
              "      <td>0</td>\n",
              "      <td>28</td>\n",
              "      <td>3</td>\n",
              "      <td>42.31</td>\n",
              "      <td>2.572</td>\n",
              "      <td>0.0</td>\n",
              "      <td>0.0</td>\n",
              "      <td>0.0</td>\n",
              "      <td>0.0</td>\n",
              "      <td>0.0</td>\n",
              "      <td>211.096358</td>\n",
              "      <td>8.106</td>\n",
              "      <td>1085.29</td>\n",
              "    </tr>\n",
              "  </tbody>\n",
              "</table>\n",
              "</div>\n",
              "      <button class=\"colab-df-convert\" onclick=\"convertToInteractive('df-96a6bd64-6879-48c7-80fb-fa1f4b73fbd6')\"\n",
              "              title=\"Convert this dataframe to an interactive table.\"\n",
              "              style=\"display:none;\">\n",
              "        \n",
              "  <svg xmlns=\"http://www.w3.org/2000/svg\" height=\"24px\"viewBox=\"0 0 24 24\"\n",
              "       width=\"24px\">\n",
              "    <path d=\"M0 0h24v24H0V0z\" fill=\"none\"/>\n",
              "    <path d=\"M18.56 5.44l.94 2.06.94-2.06 2.06-.94-2.06-.94-.94-2.06-.94 2.06-2.06.94zm-11 1L8.5 8.5l.94-2.06 2.06-.94-2.06-.94L8.5 2.5l-.94 2.06-2.06.94zm10 10l.94 2.06.94-2.06 2.06-.94-2.06-.94-.94-2.06-.94 2.06-2.06.94z\"/><path d=\"M17.41 7.96l-1.37-1.37c-.4-.4-.92-.59-1.43-.59-.52 0-1.04.2-1.43.59L10.3 9.45l-7.72 7.72c-.78.78-.78 2.05 0 2.83L4 21.41c.39.39.9.59 1.41.59.51 0 1.02-.2 1.41-.59l7.78-7.78 2.81-2.81c.8-.78.8-2.07 0-2.86zM5.41 20L4 18.59l7.72-7.72 1.47 1.35L5.41 20z\"/>\n",
              "  </svg>\n",
              "      </button>\n",
              "      \n",
              "  <style>\n",
              "    .colab-df-container {\n",
              "      display:flex;\n",
              "      flex-wrap:wrap;\n",
              "      gap: 12px;\n",
              "    }\n",
              "\n",
              "    .colab-df-convert {\n",
              "      background-color: #E8F0FE;\n",
              "      border: none;\n",
              "      border-radius: 50%;\n",
              "      cursor: pointer;\n",
              "      display: none;\n",
              "      fill: #1967D2;\n",
              "      height: 32px;\n",
              "      padding: 0 0 0 0;\n",
              "      width: 32px;\n",
              "    }\n",
              "\n",
              "    .colab-df-convert:hover {\n",
              "      background-color: #E2EBFA;\n",
              "      box-shadow: 0px 1px 2px rgba(60, 64, 67, 0.3), 0px 1px 3px 1px rgba(60, 64, 67, 0.15);\n",
              "      fill: #174EA6;\n",
              "    }\n",
              "\n",
              "    [theme=dark] .colab-df-convert {\n",
              "      background-color: #3B4455;\n",
              "      fill: #D2E3FC;\n",
              "    }\n",
              "\n",
              "    [theme=dark] .colab-df-convert:hover {\n",
              "      background-color: #434B5C;\n",
              "      box-shadow: 0px 1px 3px 1px rgba(0, 0, 0, 0.15);\n",
              "      filter: drop-shadow(0px 1px 2px rgba(0, 0, 0, 0.3));\n",
              "      fill: #FFFFFF;\n",
              "    }\n",
              "  </style>\n",
              "\n",
              "      <script>\n",
              "        const buttonEl =\n",
              "          document.querySelector('#df-96a6bd64-6879-48c7-80fb-fa1f4b73fbd6 button.colab-df-convert');\n",
              "        buttonEl.style.display =\n",
              "          google.colab.kernel.accessAllowed ? 'block' : 'none';\n",
              "\n",
              "        async function convertToInteractive(key) {\n",
              "          const element = document.querySelector('#df-96a6bd64-6879-48c7-80fb-fa1f4b73fbd6');\n",
              "          const dataTable =\n",
              "            await google.colab.kernel.invokeFunction('convertToInteractive',\n",
              "                                                     [key], {});\n",
              "          if (!dataTable) return;\n",
              "\n",
              "          const docLinkHtml = 'Like what you see? Visit the ' +\n",
              "            '<a target=\"_blank\" href=https://colab.research.google.com/notebooks/data_table.ipynb>data table notebook</a>'\n",
              "            + ' to learn more about interactive tables.';\n",
              "          element.innerHTML = '';\n",
              "          dataTable['output_type'] = 'display_data';\n",
              "          await google.colab.output.renderOutput(dataTable, element);\n",
              "          const docLink = document.createElement('div');\n",
              "          docLink.innerHTML = docLinkHtml;\n",
              "          element.appendChild(docLink);\n",
              "        }\n",
              "      </script>\n",
              "    </div>\n",
              "  </div>\n",
              "  "
            ]
          },
          "metadata": {},
          "execution_count": 829
        }
      ]
    },
    {
      "cell_type": "code",
      "source": [
        "df.columns"
      ],
      "metadata": {
        "colab": {
          "base_uri": "https://localhost:8080/"
        },
        "id": "r3khjNMVWB5K",
        "outputId": "765a042a-054f-4271-9122-f2a224ca59f9"
      },
      "execution_count": null,
      "outputs": [
        {
          "output_type": "execute_result",
          "data": {
            "text/plain": [
              "Index(['Store', 'IsHoliday', 'Dept', 'Type', 'Temperature', 'Fuel_Price',\n",
              "       'MarkDown1', 'MarkDown2', 'MarkDown3', 'MarkDown4', 'MarkDown5', 'CPI',\n",
              "       'Unemployment', 'Sales'],\n",
              "      dtype='object')"
            ]
          },
          "metadata": {},
          "execution_count": 830
        }
      ]
    },
    {
      "cell_type": "code",
      "source": [
        "df.isnull()"
      ],
      "metadata": {
        "colab": {
          "base_uri": "https://localhost:8080/",
          "height": 424
        },
        "id": "_FQok5yoWt_b",
        "outputId": "b0ba8ec0-68d7-4aa0-c158-addfd6f62ee8"
      },
      "execution_count": null,
      "outputs": [
        {
          "output_type": "execute_result",
          "data": {
            "text/plain": [
              "        Store  IsHoliday   Dept   Type  Temperature  Fuel_Price  MarkDown1  \\\n",
              "0       False      False  False  False        False       False      False   \n",
              "1       False      False  False  False        False       False      False   \n",
              "2       False      False  False  False        False       False      False   \n",
              "3       False      False  False  False        False       False      False   \n",
              "4       False      False  False  False        False       False      False   \n",
              "...       ...        ...    ...    ...          ...         ...        ...   \n",
              "196591  False      False  False  False        False       False      False   \n",
              "196592  False      False  False  False        False       False      False   \n",
              "196593  False      False  False  False        False       False      False   \n",
              "196594  False      False  False  False        False       False      False   \n",
              "196595  False      False  False  False        False       False      False   \n",
              "\n",
              "        MarkDown2  MarkDown3  MarkDown4  MarkDown5    CPI  Unemployment  Sales  \n",
              "0           False      False      False      False  False         False  False  \n",
              "1           False      False      False      False  False         False  False  \n",
              "2           False      False      False      False  False         False  False  \n",
              "3           False      False      False      False  False         False  False  \n",
              "4           False      False      False      False  False         False  False  \n",
              "...           ...        ...        ...        ...    ...           ...    ...  \n",
              "196591      False      False      False      False  False         False  False  \n",
              "196592      False      False      False      False  False         False  False  \n",
              "196593      False      False      False      False  False         False  False  \n",
              "196594      False      False      False      False  False         False  False  \n",
              "196595      False      False      False      False  False         False  False  \n",
              "\n",
              "[196596 rows x 14 columns]"
            ],
            "text/html": [
              "\n",
              "  <div id=\"df-5e136bfb-2184-4ba0-80e7-03a99a2fe51b\">\n",
              "    <div class=\"colab-df-container\">\n",
              "      <div>\n",
              "<style scoped>\n",
              "    .dataframe tbody tr th:only-of-type {\n",
              "        vertical-align: middle;\n",
              "    }\n",
              "\n",
              "    .dataframe tbody tr th {\n",
              "        vertical-align: top;\n",
              "    }\n",
              "\n",
              "    .dataframe thead th {\n",
              "        text-align: right;\n",
              "    }\n",
              "</style>\n",
              "<table border=\"1\" class=\"dataframe\">\n",
              "  <thead>\n",
              "    <tr style=\"text-align: right;\">\n",
              "      <th></th>\n",
              "      <th>Store</th>\n",
              "      <th>IsHoliday</th>\n",
              "      <th>Dept</th>\n",
              "      <th>Type</th>\n",
              "      <th>Temperature</th>\n",
              "      <th>Fuel_Price</th>\n",
              "      <th>MarkDown1</th>\n",
              "      <th>MarkDown2</th>\n",
              "      <th>MarkDown3</th>\n",
              "      <th>MarkDown4</th>\n",
              "      <th>MarkDown5</th>\n",
              "      <th>CPI</th>\n",
              "      <th>Unemployment</th>\n",
              "      <th>Sales</th>\n",
              "    </tr>\n",
              "  </thead>\n",
              "  <tbody>\n",
              "    <tr>\n",
              "      <th>0</th>\n",
              "      <td>False</td>\n",
              "      <td>False</td>\n",
              "      <td>False</td>\n",
              "      <td>False</td>\n",
              "      <td>False</td>\n",
              "      <td>False</td>\n",
              "      <td>False</td>\n",
              "      <td>False</td>\n",
              "      <td>False</td>\n",
              "      <td>False</td>\n",
              "      <td>False</td>\n",
              "      <td>False</td>\n",
              "      <td>False</td>\n",
              "      <td>False</td>\n",
              "    </tr>\n",
              "    <tr>\n",
              "      <th>1</th>\n",
              "      <td>False</td>\n",
              "      <td>False</td>\n",
              "      <td>False</td>\n",
              "      <td>False</td>\n",
              "      <td>False</td>\n",
              "      <td>False</td>\n",
              "      <td>False</td>\n",
              "      <td>False</td>\n",
              "      <td>False</td>\n",
              "      <td>False</td>\n",
              "      <td>False</td>\n",
              "      <td>False</td>\n",
              "      <td>False</td>\n",
              "      <td>False</td>\n",
              "    </tr>\n",
              "    <tr>\n",
              "      <th>2</th>\n",
              "      <td>False</td>\n",
              "      <td>False</td>\n",
              "      <td>False</td>\n",
              "      <td>False</td>\n",
              "      <td>False</td>\n",
              "      <td>False</td>\n",
              "      <td>False</td>\n",
              "      <td>False</td>\n",
              "      <td>False</td>\n",
              "      <td>False</td>\n",
              "      <td>False</td>\n",
              "      <td>False</td>\n",
              "      <td>False</td>\n",
              "      <td>False</td>\n",
              "    </tr>\n",
              "    <tr>\n",
              "      <th>3</th>\n",
              "      <td>False</td>\n",
              "      <td>False</td>\n",
              "      <td>False</td>\n",
              "      <td>False</td>\n",
              "      <td>False</td>\n",
              "      <td>False</td>\n",
              "      <td>False</td>\n",
              "      <td>False</td>\n",
              "      <td>False</td>\n",
              "      <td>False</td>\n",
              "      <td>False</td>\n",
              "      <td>False</td>\n",
              "      <td>False</td>\n",
              "      <td>False</td>\n",
              "    </tr>\n",
              "    <tr>\n",
              "      <th>4</th>\n",
              "      <td>False</td>\n",
              "      <td>False</td>\n",
              "      <td>False</td>\n",
              "      <td>False</td>\n",
              "      <td>False</td>\n",
              "      <td>False</td>\n",
              "      <td>False</td>\n",
              "      <td>False</td>\n",
              "      <td>False</td>\n",
              "      <td>False</td>\n",
              "      <td>False</td>\n",
              "      <td>False</td>\n",
              "      <td>False</td>\n",
              "      <td>False</td>\n",
              "    </tr>\n",
              "    <tr>\n",
              "      <th>...</th>\n",
              "      <td>...</td>\n",
              "      <td>...</td>\n",
              "      <td>...</td>\n",
              "      <td>...</td>\n",
              "      <td>...</td>\n",
              "      <td>...</td>\n",
              "      <td>...</td>\n",
              "      <td>...</td>\n",
              "      <td>...</td>\n",
              "      <td>...</td>\n",
              "      <td>...</td>\n",
              "      <td>...</td>\n",
              "      <td>...</td>\n",
              "      <td>...</td>\n",
              "    </tr>\n",
              "    <tr>\n",
              "      <th>196591</th>\n",
              "      <td>False</td>\n",
              "      <td>False</td>\n",
              "      <td>False</td>\n",
              "      <td>False</td>\n",
              "      <td>False</td>\n",
              "      <td>False</td>\n",
              "      <td>False</td>\n",
              "      <td>False</td>\n",
              "      <td>False</td>\n",
              "      <td>False</td>\n",
              "      <td>False</td>\n",
              "      <td>False</td>\n",
              "      <td>False</td>\n",
              "      <td>False</td>\n",
              "    </tr>\n",
              "    <tr>\n",
              "      <th>196592</th>\n",
              "      <td>False</td>\n",
              "      <td>False</td>\n",
              "      <td>False</td>\n",
              "      <td>False</td>\n",
              "      <td>False</td>\n",
              "      <td>False</td>\n",
              "      <td>False</td>\n",
              "      <td>False</td>\n",
              "      <td>False</td>\n",
              "      <td>False</td>\n",
              "      <td>False</td>\n",
              "      <td>False</td>\n",
              "      <td>False</td>\n",
              "      <td>False</td>\n",
              "    </tr>\n",
              "    <tr>\n",
              "      <th>196593</th>\n",
              "      <td>False</td>\n",
              "      <td>False</td>\n",
              "      <td>False</td>\n",
              "      <td>False</td>\n",
              "      <td>False</td>\n",
              "      <td>False</td>\n",
              "      <td>False</td>\n",
              "      <td>False</td>\n",
              "      <td>False</td>\n",
              "      <td>False</td>\n",
              "      <td>False</td>\n",
              "      <td>False</td>\n",
              "      <td>False</td>\n",
              "      <td>False</td>\n",
              "    </tr>\n",
              "    <tr>\n",
              "      <th>196594</th>\n",
              "      <td>False</td>\n",
              "      <td>False</td>\n",
              "      <td>False</td>\n",
              "      <td>False</td>\n",
              "      <td>False</td>\n",
              "      <td>False</td>\n",
              "      <td>False</td>\n",
              "      <td>False</td>\n",
              "      <td>False</td>\n",
              "      <td>False</td>\n",
              "      <td>False</td>\n",
              "      <td>False</td>\n",
              "      <td>False</td>\n",
              "      <td>False</td>\n",
              "    </tr>\n",
              "    <tr>\n",
              "      <th>196595</th>\n",
              "      <td>False</td>\n",
              "      <td>False</td>\n",
              "      <td>False</td>\n",
              "      <td>False</td>\n",
              "      <td>False</td>\n",
              "      <td>False</td>\n",
              "      <td>False</td>\n",
              "      <td>False</td>\n",
              "      <td>False</td>\n",
              "      <td>False</td>\n",
              "      <td>False</td>\n",
              "      <td>False</td>\n",
              "      <td>False</td>\n",
              "      <td>False</td>\n",
              "    </tr>\n",
              "  </tbody>\n",
              "</table>\n",
              "<p>196596 rows × 14 columns</p>\n",
              "</div>\n",
              "      <button class=\"colab-df-convert\" onclick=\"convertToInteractive('df-5e136bfb-2184-4ba0-80e7-03a99a2fe51b')\"\n",
              "              title=\"Convert this dataframe to an interactive table.\"\n",
              "              style=\"display:none;\">\n",
              "        \n",
              "  <svg xmlns=\"http://www.w3.org/2000/svg\" height=\"24px\"viewBox=\"0 0 24 24\"\n",
              "       width=\"24px\">\n",
              "    <path d=\"M0 0h24v24H0V0z\" fill=\"none\"/>\n",
              "    <path d=\"M18.56 5.44l.94 2.06.94-2.06 2.06-.94-2.06-.94-.94-2.06-.94 2.06-2.06.94zm-11 1L8.5 8.5l.94-2.06 2.06-.94-2.06-.94L8.5 2.5l-.94 2.06-2.06.94zm10 10l.94 2.06.94-2.06 2.06-.94-2.06-.94-.94-2.06-.94 2.06-2.06.94z\"/><path d=\"M17.41 7.96l-1.37-1.37c-.4-.4-.92-.59-1.43-.59-.52 0-1.04.2-1.43.59L10.3 9.45l-7.72 7.72c-.78.78-.78 2.05 0 2.83L4 21.41c.39.39.9.59 1.41.59.51 0 1.02-.2 1.41-.59l7.78-7.78 2.81-2.81c.8-.78.8-2.07 0-2.86zM5.41 20L4 18.59l7.72-7.72 1.47 1.35L5.41 20z\"/>\n",
              "  </svg>\n",
              "      </button>\n",
              "      \n",
              "  <style>\n",
              "    .colab-df-container {\n",
              "      display:flex;\n",
              "      flex-wrap:wrap;\n",
              "      gap: 12px;\n",
              "    }\n",
              "\n",
              "    .colab-df-convert {\n",
              "      background-color: #E8F0FE;\n",
              "      border: none;\n",
              "      border-radius: 50%;\n",
              "      cursor: pointer;\n",
              "      display: none;\n",
              "      fill: #1967D2;\n",
              "      height: 32px;\n",
              "      padding: 0 0 0 0;\n",
              "      width: 32px;\n",
              "    }\n",
              "\n",
              "    .colab-df-convert:hover {\n",
              "      background-color: #E2EBFA;\n",
              "      box-shadow: 0px 1px 2px rgba(60, 64, 67, 0.3), 0px 1px 3px 1px rgba(60, 64, 67, 0.15);\n",
              "      fill: #174EA6;\n",
              "    }\n",
              "\n",
              "    [theme=dark] .colab-df-convert {\n",
              "      background-color: #3B4455;\n",
              "      fill: #D2E3FC;\n",
              "    }\n",
              "\n",
              "    [theme=dark] .colab-df-convert:hover {\n",
              "      background-color: #434B5C;\n",
              "      box-shadow: 0px 1px 3px 1px rgba(0, 0, 0, 0.15);\n",
              "      filter: drop-shadow(0px 1px 2px rgba(0, 0, 0, 0.3));\n",
              "      fill: #FFFFFF;\n",
              "    }\n",
              "  </style>\n",
              "\n",
              "      <script>\n",
              "        const buttonEl =\n",
              "          document.querySelector('#df-5e136bfb-2184-4ba0-80e7-03a99a2fe51b button.colab-df-convert');\n",
              "        buttonEl.style.display =\n",
              "          google.colab.kernel.accessAllowed ? 'block' : 'none';\n",
              "\n",
              "        async function convertToInteractive(key) {\n",
              "          const element = document.querySelector('#df-5e136bfb-2184-4ba0-80e7-03a99a2fe51b');\n",
              "          const dataTable =\n",
              "            await google.colab.kernel.invokeFunction('convertToInteractive',\n",
              "                                                     [key], {});\n",
              "          if (!dataTable) return;\n",
              "\n",
              "          const docLinkHtml = 'Like what you see? Visit the ' +\n",
              "            '<a target=\"_blank\" href=https://colab.research.google.com/notebooks/data_table.ipynb>data table notebook</a>'\n",
              "            + ' to learn more about interactive tables.';\n",
              "          element.innerHTML = '';\n",
              "          dataTable['output_type'] = 'display_data';\n",
              "          await google.colab.output.renderOutput(dataTable, element);\n",
              "          const docLink = document.createElement('div');\n",
              "          docLink.innerHTML = docLinkHtml;\n",
              "          element.appendChild(docLink);\n",
              "        }\n",
              "      </script>\n",
              "    </div>\n",
              "  </div>\n",
              "  "
            ]
          },
          "metadata": {},
          "execution_count": 831
        }
      ]
    },
    {
      "cell_type": "code",
      "source": [
        "df.isnull().values.any()"
      ],
      "metadata": {
        "colab": {
          "base_uri": "https://localhost:8080/"
        },
        "id": "Ytp3jKgMZpmd",
        "outputId": "5440a340-9dcb-4617-decf-cb064859d755"
      },
      "execution_count": null,
      "outputs": [
        {
          "output_type": "execute_result",
          "data": {
            "text/plain": [
              "False"
            ]
          },
          "metadata": {},
          "execution_count": 832
        }
      ]
    },
    {
      "cell_type": "code",
      "source": [
        "df.isnull().sum()"
      ],
      "metadata": {
        "colab": {
          "base_uri": "https://localhost:8080/"
        },
        "id": "N-OhTSeUWxTi",
        "outputId": "940b9054-41eb-4f0b-c325-f7f205d9bb91"
      },
      "execution_count": null,
      "outputs": [
        {
          "output_type": "execute_result",
          "data": {
            "text/plain": [
              "Store           0\n",
              "IsHoliday       0\n",
              "Dept            0\n",
              "Type            0\n",
              "Temperature     0\n",
              "Fuel_Price      0\n",
              "MarkDown1       0\n",
              "MarkDown2       0\n",
              "MarkDown3       0\n",
              "MarkDown4       0\n",
              "MarkDown5       0\n",
              "CPI             0\n",
              "Unemployment    0\n",
              "Sales           0\n",
              "dtype: int64"
            ]
          },
          "metadata": {},
          "execution_count": 833
        }
      ]
    },
    {
      "cell_type": "code",
      "source": [
        "df.duplicated()"
      ],
      "metadata": {
        "colab": {
          "base_uri": "https://localhost:8080/"
        },
        "id": "NYyxWMIvVSro",
        "outputId": "6a5a9491-2bcb-4edb-8717-57d87b6b10ad"
      },
      "execution_count": null,
      "outputs": [
        {
          "output_type": "execute_result",
          "data": {
            "text/plain": [
              "0         False\n",
              "1         False\n",
              "2         False\n",
              "3         False\n",
              "4         False\n",
              "          ...  \n",
              "196591    False\n",
              "196592    False\n",
              "196593    False\n",
              "196594    False\n",
              "196595    False\n",
              "Length: 196596, dtype: bool"
            ]
          },
          "metadata": {},
          "execution_count": 834
        }
      ]
    },
    {
      "cell_type": "code",
      "source": [
        "sns.distplot(df[\"Sales\"])"
      ],
      "metadata": {
        "id": "s5eJ0HS7XGRK"
      },
      "execution_count": null,
      "outputs": []
    },
    {
      "cell_type": "code",
      "source": [
        "df.hist()"
      ],
      "metadata": {
        "colab": {
          "base_uri": "https://localhost:8080/",
          "height": 712
        },
        "id": "KVHHWby9ch8_",
        "outputId": "4a62eeec-d9ab-4ec8-d099-c4a86d239d0d"
      },
      "execution_count": null,
      "outputs": [
        {
          "output_type": "execute_result",
          "data": {
            "text/plain": [
              "array([[<Axes: title={'center': 'Store'}>,\n",
              "        <Axes: title={'center': 'IsHoliday'}>,\n",
              "        <Axes: title={'center': 'Dept'}>,\n",
              "        <Axes: title={'center': 'Type'}>],\n",
              "       [<Axes: title={'center': 'Temperature'}>,\n",
              "        <Axes: title={'center': 'Fuel_Price'}>,\n",
              "        <Axes: title={'center': 'MarkDown1'}>,\n",
              "        <Axes: title={'center': 'MarkDown2'}>],\n",
              "       [<Axes: title={'center': 'MarkDown3'}>,\n",
              "        <Axes: title={'center': 'MarkDown4'}>,\n",
              "        <Axes: title={'center': 'MarkDown5'}>,\n",
              "        <Axes: title={'center': 'CPI'}>],\n",
              "       [<Axes: title={'center': 'Unemployment'}>,\n",
              "        <Axes: title={'center': 'Sales'}>, <Axes: >, <Axes: >]],\n",
              "      dtype=object)"
            ]
          },
          "metadata": {},
          "execution_count": 861
        },
        {
          "output_type": "display_data",
          "data": {
            "text/plain": [
              "<Figure size 640x480 with 16 Axes>"
            ],
            "image/png": "[encoded data removed]"
          },
          "metadata": {}
        }
      ]
    },
    {
      "cell_type": "code",
      "source": [
        "sns.heatmap(df.corr(),annot=True)"
      ],
      "metadata": {
        "colab": {
          "base_uri": "https://localhost:8080/",
          "height": 545
        },
        "id": "8wVz-uNYaWU9",
        "outputId": "83c780d2-571a-4d63-a031-d5543f3afde5"
      },
      "execution_count": null,
      "outputs": [
        {
          "output_type": "execute_result",
          "data": {
            "text/plain": [
              "<Axes: >"
            ]
          },
          "metadata": {},
          "execution_count": 836
        },
        {
          "output_type": "display_data",
          "data": {
            "text/plain": [
              "<Figure size 640x480 with 2 Axes>"
            ],
            "image/png": "[encoded data removed]"
          },
          "metadata": {}
        }
      ]
    },
    {
      "cell_type": "code",
      "source": [
        "df.head()"
      ],
      "metadata": {
        "colab": {
          "base_uri": "https://localhost:8080/",
          "height": 206
        },
        "id": "9cT4NOJRbACr",
        "outputId": "ed7760ed-a877-42dd-e843-cf4d35be44b7"
      },
      "execution_count": null,
      "outputs": [
        {
          "output_type": "execute_result",
          "data": {
            "text/plain": [
              "   Store  IsHoliday  Dept  Type  Temperature  Fuel_Price  MarkDown1  \\\n",
              "0      1          0     1     3        42.31       2.572        0.0   \n",
              "1      1          0    26     3        42.31       2.572        0.0   \n",
              "2      1          0    17     3        42.31       2.572        0.0   \n",
              "3      1          0    45     3        42.31       2.572        0.0   \n",
              "4      1          0    28     3        42.31       2.572        0.0   \n",
              "\n",
              "   MarkDown2  MarkDown3  MarkDown4  MarkDown5         CPI  Unemployment  \\\n",
              "0        0.0        0.0        0.0        0.0  211.096358         8.106   \n",
              "1        0.0        0.0        0.0        0.0  211.096358         8.106   \n",
              "2        0.0        0.0        0.0        0.0  211.096358         8.106   \n",
              "3        0.0        0.0        0.0        0.0  211.096358         8.106   \n",
              "4        0.0        0.0        0.0        0.0  211.096358         8.106   \n",
              "\n",
              "      Sales  \n",
              "0  24924.50  \n",
              "1  11737.12  \n",
              "2  13223.76  \n",
              "3     37.44  \n",
              "4   1085.29  "
            ],
            "text/html": [
              "\n",
              "  <div id=\"df-0899c3d4-c91d-40ab-b6ee-ecfd97fe6d56\">\n",
              "    <div class=\"colab-df-container\">\n",
              "      <div>\n",
              "<style scoped>\n",
              "    .dataframe tbody tr th:only-of-type {\n",
              "        vertical-align: middle;\n",
              "    }\n",
              "\n",
              "    .dataframe tbody tr th {\n",
              "        vertical-align: top;\n",
              "    }\n",
              "\n",
              "    .dataframe thead th {\n",
              "        text-align: right;\n",
              "    }\n",
              "</style>\n",
              "<table border=\"1\" class=\"dataframe\">\n",
              "  <thead>\n",
              "    <tr style=\"text-align: right;\">\n",
              "      <th></th>\n",
              "      <th>Store</th>\n",
              "      <th>IsHoliday</th>\n",
              "      <th>Dept</th>\n",
              "      <th>Type</th>\n",
              "      <th>Temperature</th>\n",
              "      <th>Fuel_Price</th>\n",
              "      <th>MarkDown1</th>\n",
              "      <th>MarkDown2</th>\n",
              "      <th>MarkDown3</th>\n",
              "      <th>MarkDown4</th>\n",
              "      <th>MarkDown5</th>\n",
              "      <th>CPI</th>\n",
              "      <th>Unemployment</th>\n",
              "      <th>Sales</th>\n",
              "    </tr>\n",
              "  </thead>\n",
              "  <tbody>\n",
              "    <tr>\n",
              "      <th>0</th>\n",
              "      <td>1</td>\n",
              "      <td>0</td>\n",
              "      <td>1</td>\n",
              "      <td>3</td>\n",
              "      <td>42.31</td>\n",
              "      <td>2.572</td>\n",
              "      <td>0.0</td>\n",
              "      <td>0.0</td>\n",
              "      <td>0.0</td>\n",
              "      <td>0.0</td>\n",
              "      <td>0.0</td>\n",
              "      <td>211.096358</td>\n",
              "      <td>8.106</td>\n",
              "      <td>24924.50</td>\n",
              "    </tr>\n",
              "    <tr>\n",
              "      <th>1</th>\n",
              "      <td>1</td>\n",
              "      <td>0</td>\n",
              "      <td>26</td>\n",
              "      <td>3</td>\n",
              "      <td>42.31</td>\n",
              "      <td>2.572</td>\n",
              "      <td>0.0</td>\n",
              "      <td>0.0</td>\n",
              "      <td>0.0</td>\n",
              "      <td>0.0</td>\n",
              "      <td>0.0</td>\n",
              "      <td>211.096358</td>\n",
              "      <td>8.106</td>\n",
              "      <td>11737.12</td>\n",
              "    </tr>\n",
              "    <tr>\n",
              "      <th>2</th>\n",
              "      <td>1</td>\n",
              "      <td>0</td>\n",
              "      <td>17</td>\n",
              "      <td>3</td>\n",
              "      <td>42.31</td>\n",
              "      <td>2.572</td>\n",
              "      <td>0.0</td>\n",
              "      <td>0.0</td>\n",
              "      <td>0.0</td>\n",
              "      <td>0.0</td>\n",
              "      <td>0.0</td>\n",
              "      <td>211.096358</td>\n",
              "      <td>8.106</td>\n",
              "      <td>13223.76</td>\n",
              "    </tr>\n",
              "    <tr>\n",
              "      <th>3</th>\n",
              "      <td>1</td>\n",
              "      <td>0</td>\n",
              "      <td>45</td>\n",
              "      <td>3</td>\n",
              "      <td>42.31</td>\n",
              "      <td>2.572</td>\n",
              "      <td>0.0</td>\n",
              "      <td>0.0</td>\n",
              "      <td>0.0</td>\n",
              "      <td>0.0</td>\n",
              "      <td>0.0</td>\n",
              "      <td>211.096358</td>\n",
              "      <td>8.106</td>\n",
              "      <td>37.44</td>\n",
              "    </tr>\n",
              "    <tr>\n",
              "      <th>4</th>\n",
              "      <td>1</td>\n",
              "      <td>0</td>\n",
              "      <td>28</td>\n",
              "      <td>3</td>\n",
              "      <td>42.31</td>\n",
              "      <td>2.572</td>\n",
              "      <td>0.0</td>\n",
              "      <td>0.0</td>\n",
              "      <td>0.0</td>\n",
              "      <td>0.0</td>\n",
              "      <td>0.0</td>\n",
              "      <td>211.096358</td>\n",
              "      <td>8.106</td>\n",
              "      <td>1085.29</td>\n",
              "    </tr>\n",
              "  </tbody>\n",
              "</table>\n",
              "</div>\n",
              "      <button class=\"colab-df-convert\" onclick=\"convertToInteractive('df-0899c3d4-c91d-40ab-b6ee-ecfd97fe6d56')\"\n",
              "              title=\"Convert this dataframe to an interactive table.\"\n",
              "              style=\"display:none;\">\n",
              "        \n",
              "  <svg xmlns=\"http://www.w3.org/2000/svg\" height=\"24px\"viewBox=\"0 0 24 24\"\n",
              "       width=\"24px\">\n",
              "    <path d=\"M0 0h24v24H0V0z\" fill=\"none\"/>\n",
              "    <path d=\"M18.56 5.44l.94 2.06.94-2.06 2.06-.94-2.06-.94-.94-2.06-.94 2.06-2.06.94zm-11 1L8.5 8.5l.94-2.06 2.06-.94-2.06-.94L8.5 2.5l-.94 2.06-2.06.94zm10 10l.94 2.06.94-2.06 2.06-.94-2.06-.94-.94-2.06-.94 2.06-2.06.94z\"/><path d=\"M17.41 7.96l-1.37-1.37c-.4-.4-.92-.59-1.43-.59-.52 0-1.04.2-1.43.59L10.3 9.45l-7.72 7.72c-.78.78-.78 2.05 0 2.83L4 21.41c.39.39.9.59 1.41.59.51 0 1.02-.2 1.41-.59l7.78-7.78 2.81-2.81c.8-.78.8-2.07 0-2.86zM5.41 20L4 18.59l7.72-7.72 1.47 1.35L5.41 20z\"/>\n",
              "  </svg>\n",
              "      </button>\n",
              "      \n",
              "  <style>\n",
              "    .colab-df-container {\n",
              "      display:flex;\n",
              "      flex-wrap:wrap;\n",
              "      gap: 12px;\n",
              "    }\n",
              "\n",
              "    .colab-df-convert {\n",
              "      background-color: #E8F0FE;\n",
              "      border: none;\n",
              "      border-radius: 50%;\n",
              "      cursor: pointer;\n",
              "      display: none;\n",
              "      fill: #1967D2;\n",
              "      height: 32px;\n",
              "      padding: 0 0 0 0;\n",
              "      width: 32px;\n",
              "    }\n",
              "\n",
              "    .colab-df-convert:hover {\n",
              "      background-color: #E2EBFA;\n",
              "      box-shadow: 0px 1px 2px rgba(60, 64, 67, 0.3), 0px 1px 3px 1px rgba(60, 64, 67, 0.15);\n",
              "      fill: #174EA6;\n",
              "    }\n",
              "\n",
              "    [theme=dark] .colab-df-convert {\n",
              "      background-color: #3B4455;\n",
              "      fill: #D2E3FC;\n",
              "    }\n",
              "\n",
              "    [theme=dark] .colab-df-convert:hover {\n",
              "      background-color: #434B5C;\n",
              "      box-shadow: 0px 1px 3px 1px rgba(0, 0, 0, 0.15);\n",
              "      filter: drop-shadow(0px 1px 2px rgba(0, 0, 0, 0.3));\n",
              "      fill: #FFFFFF;\n",
              "    }\n",
              "  </style>\n",
              "\n",
              "      <script>\n",
              "        const buttonEl =\n",
              "          document.querySelector('#df-0899c3d4-c91d-40ab-b6ee-ecfd97fe6d56 button.colab-df-convert');\n",
              "        buttonEl.style.display =\n",
              "          google.colab.kernel.accessAllowed ? 'block' : 'none';\n",
              "\n",
              "        async function convertToInteractive(key) {\n",
              "          const element = document.querySelector('#df-0899c3d4-c91d-40ab-b6ee-ecfd97fe6d56');\n",
              "          const dataTable =\n",
              "            await google.colab.kernel.invokeFunction('convertToInteractive',\n",
              "                                                     [key], {});\n",
              "          if (!dataTable) return;\n",
              "\n",
              "          const docLinkHtml = 'Like what you see? Visit the ' +\n",
              "            '<a target=\"_blank\" href=https://colab.research.google.com/notebooks/data_table.ipynb>data table notebook</a>'\n",
              "            + ' to learn more about interactive tables.';\n",
              "          element.innerHTML = '';\n",
              "          dataTable['output_type'] = 'display_data';\n",
              "          await google.colab.output.renderOutput(dataTable, element);\n",
              "          const docLink = document.createElement('div');\n",
              "          docLink.innerHTML = docLinkHtml;\n",
              "          element.appendChild(docLink);\n",
              "        }\n",
              "      </script>\n",
              "    </div>\n",
              "  </div>\n",
              "  "
            ]
          },
          "metadata": {},
          "execution_count": 837
        }
      ]
    },
    {
      "cell_type": "code",
      "source": [
        "df.tail()"
      ],
      "metadata": {
        "colab": {
          "base_uri": "https://localhost:8080/",
          "height": 206
        },
        "id": "Oizt119IbLyE",
        "outputId": "38a93b65-f556-4b0a-c0b5-f90617fa2de9"
      },
      "execution_count": null,
      "outputs": [
        {
          "output_type": "execute_result",
          "data": {
            "text/plain": [
              "        Store  IsHoliday  Dept  Type  Temperature  Fuel_Price  MarkDown1  \\\n",
              "196591     20          0    94     3        60.04       3.882   10813.19   \n",
              "196592     20          0    67     3        60.04       3.882   10813.19   \n",
              "196593     20          0    37     3        60.04       3.882   10813.19   \n",
              "196594     20          0    22     3        60.04       3.882   10813.19   \n",
              "196595     20          0    52     3        60.04       3.882   10813.19   \n",
              "\n",
              "        MarkDown2  MarkDown3  MarkDown4  MarkDown5        CPI  Unemployment  \\\n",
              "196591      22.33     102.91     867.39    1671.76  216.15159         7.293   \n",
              "196592      22.33     102.91     867.39    1671.76  216.15159         7.293   \n",
              "196593      22.33     102.91     867.39    1671.76  216.15159         7.293   \n",
              "196594      22.33     102.91     867.39    1671.76  216.15159         7.293   \n",
              "196595      22.33     102.91     867.39    1671.76  216.15159         7.293   \n",
              "\n",
              "           Sales  \n",
              "196591  59836.84  \n",
              "196592  16394.56  \n",
              "196593   4735.38  \n",
              "196594  11996.42  \n",
              "196595   2562.04  "
            ],
            "text/html": [
              "\n",
              "  <div id=\"df-a2fcec2a-c99b-43d3-9ddd-f68bd2ca379b\">\n",
              "    <div class=\"colab-df-container\">\n",
              "      <div>\n",
              "<style scoped>\n",
              "    .dataframe tbody tr th:only-of-type {\n",
              "        vertical-align: middle;\n",
              "    }\n",
              "\n",
              "    .dataframe tbody tr th {\n",
              "        vertical-align: top;\n",
              "    }\n",
              "\n",
              "    .dataframe thead th {\n",
              "        text-align: right;\n",
              "    }\n",
              "</style>\n",
              "<table border=\"1\" class=\"dataframe\">\n",
              "  <thead>\n",
              "    <tr style=\"text-align: right;\">\n",
              "      <th></th>\n",
              "      <th>Store</th>\n",
              "      <th>IsHoliday</th>\n",
              "      <th>Dept</th>\n",
              "      <th>Type</th>\n",
              "      <th>Temperature</th>\n",
              "      <th>Fuel_Price</th>\n",
              "      <th>MarkDown1</th>\n",
              "      <th>MarkDown2</th>\n",
              "      <th>MarkDown3</th>\n",
              "      <th>MarkDown4</th>\n",
              "      <th>MarkDown5</th>\n",
              "      <th>CPI</th>\n",
              "      <th>Unemployment</th>\n",
              "      <th>Sales</th>\n",
              "    </tr>\n",
              "  </thead>\n",
              "  <tbody>\n",
              "    <tr>\n",
              "      <th>196591</th>\n",
              "      <td>20</td>\n",
              "      <td>0</td>\n",
              "      <td>94</td>\n",
              "      <td>3</td>\n",
              "      <td>60.04</td>\n",
              "      <td>3.882</td>\n",
              "      <td>10813.19</td>\n",
              "      <td>22.33</td>\n",
              "      <td>102.91</td>\n",
              "      <td>867.39</td>\n",
              "      <td>1671.76</td>\n",
              "      <td>216.15159</td>\n",
              "      <td>7.293</td>\n",
              "      <td>59836.84</td>\n",
              "    </tr>\n",
              "    <tr>\n",
              "      <th>196592</th>\n",
              "      <td>20</td>\n",
              "      <td>0</td>\n",
              "      <td>67</td>\n",
              "      <td>3</td>\n",
              "      <td>60.04</td>\n",
              "      <td>3.882</td>\n",
              "      <td>10813.19</td>\n",
              "      <td>22.33</td>\n",
              "      <td>102.91</td>\n",
              "      <td>867.39</td>\n",
              "      <td>1671.76</td>\n",
              "      <td>216.15159</td>\n",
              "      <td>7.293</td>\n",
              "      <td>16394.56</td>\n",
              "    </tr>\n",
              "    <tr>\n",
              "      <th>196593</th>\n",
              "      <td>20</td>\n",
              "      <td>0</td>\n",
              "      <td>37</td>\n",
              "      <td>3</td>\n",
              "      <td>60.04</td>\n",
              "      <td>3.882</td>\n",
              "      <td>10813.19</td>\n",
              "      <td>22.33</td>\n",
              "      <td>102.91</td>\n",
              "      <td>867.39</td>\n",
              "      <td>1671.76</td>\n",
              "      <td>216.15159</td>\n",
              "      <td>7.293</td>\n",
              "      <td>4735.38</td>\n",
              "    </tr>\n",
              "    <tr>\n",
              "      <th>196594</th>\n",
              "      <td>20</td>\n",
              "      <td>0</td>\n",
              "      <td>22</td>\n",
              "      <td>3</td>\n",
              "      <td>60.04</td>\n",
              "      <td>3.882</td>\n",
              "      <td>10813.19</td>\n",
              "      <td>22.33</td>\n",
              "      <td>102.91</td>\n",
              "      <td>867.39</td>\n",
              "      <td>1671.76</td>\n",
              "      <td>216.15159</td>\n",
              "      <td>7.293</td>\n",
              "      <td>11996.42</td>\n",
              "    </tr>\n",
              "    <tr>\n",
              "      <th>196595</th>\n",
              "      <td>20</td>\n",
              "      <td>0</td>\n",
              "      <td>52</td>\n",
              "      <td>3</td>\n",
              "      <td>60.04</td>\n",
              "      <td>3.882</td>\n",
              "      <td>10813.19</td>\n",
              "      <td>22.33</td>\n",
              "      <td>102.91</td>\n",
              "      <td>867.39</td>\n",
              "      <td>1671.76</td>\n",
              "      <td>216.15159</td>\n",
              "      <td>7.293</td>\n",
              "      <td>2562.04</td>\n",
              "    </tr>\n",
              "  </tbody>\n",
              "</table>\n",
              "</div>\n",
              "      <button class=\"colab-df-convert\" onclick=\"convertToInteractive('df-a2fcec2a-c99b-43d3-9ddd-f68bd2ca379b')\"\n",
              "              title=\"Convert this dataframe to an interactive table.\"\n",
              "              style=\"display:none;\">\n",
              "        \n",
              "  <svg xmlns=\"http://www.w3.org/2000/svg\" height=\"24px\"viewBox=\"0 0 24 24\"\n",
              "       width=\"24px\">\n",
              "    <path d=\"M0 0h24v24H0V0z\" fill=\"none\"/>\n",
              "    <path d=\"M18.56 5.44l.94 2.06.94-2.06 2.06-.94-2.06-.94-.94-2.06-.94 2.06-2.06.94zm-11 1L8.5 8.5l.94-2.06 2.06-.94-2.06-.94L8.5 2.5l-.94 2.06-2.06.94zm10 10l.94 2.06.94-2.06 2.06-.94-2.06-.94-.94-2.06-.94 2.06-2.06.94z\"/><path d=\"M17.41 7.96l-1.37-1.37c-.4-.4-.92-.59-1.43-.59-.52 0-1.04.2-1.43.59L10.3 9.45l-7.72 7.72c-.78.78-.78 2.05 0 2.83L4 21.41c.39.39.9.59 1.41.59.51 0 1.02-.2 1.41-.59l7.78-7.78 2.81-2.81c.8-.78.8-2.07 0-2.86zM5.41 20L4 18.59l7.72-7.72 1.47 1.35L5.41 20z\"/>\n",
              "  </svg>\n",
              "      </button>\n",
              "      \n",
              "  <style>\n",
              "    .colab-df-container {\n",
              "      display:flex;\n",
              "      flex-wrap:wrap;\n",
              "      gap: 12px;\n",
              "    }\n",
              "\n",
              "    .colab-df-convert {\n",
              "      background-color: #E8F0FE;\n",
              "      border: none;\n",
              "      border-radius: 50%;\n",
              "      cursor: pointer;\n",
              "      display: none;\n",
              "      fill: #1967D2;\n",
              "      height: 32px;\n",
              "      padding: 0 0 0 0;\n",
              "      width: 32px;\n",
              "    }\n",
              "\n",
              "    .colab-df-convert:hover {\n",
              "      background-color: #E2EBFA;\n",
              "      box-shadow: 0px 1px 2px rgba(60, 64, 67, 0.3), 0px 1px 3px 1px rgba(60, 64, 67, 0.15);\n",
              "      fill: #174EA6;\n",
              "    }\n",
              "\n",
              "    [theme=dark] .colab-df-convert {\n",
              "      background-color: #3B4455;\n",
              "      fill: #D2E3FC;\n",
              "    }\n",
              "\n",
              "    [theme=dark] .colab-df-convert:hover {\n",
              "      background-color: #434B5C;\n",
              "      box-shadow: 0px 1px 3px 1px rgba(0, 0, 0, 0.15);\n",
              "      filter: drop-shadow(0px 1px 2px rgba(0, 0, 0, 0.3));\n",
              "      fill: #FFFFFF;\n",
              "    }\n",
              "  </style>\n",
              "\n",
              "      <script>\n",
              "        const buttonEl =\n",
              "          document.querySelector('#df-a2fcec2a-c99b-43d3-9ddd-f68bd2ca379b button.colab-df-convert');\n",
              "        buttonEl.style.display =\n",
              "          google.colab.kernel.accessAllowed ? 'block' : 'none';\n",
              "\n",
              "        async function convertToInteractive(key) {\n",
              "          const element = document.querySelector('#df-a2fcec2a-c99b-43d3-9ddd-f68bd2ca379b');\n",
              "          const dataTable =\n",
              "            await google.colab.kernel.invokeFunction('convertToInteractive',\n",
              "                                                     [key], {});\n",
              "          if (!dataTable) return;\n",
              "\n",
              "          const docLinkHtml = 'Like what you see? Visit the ' +\n",
              "            '<a target=\"_blank\" href=https://colab.research.google.com/notebooks/data_table.ipynb>data table notebook</a>'\n",
              "            + ' to learn more about interactive tables.';\n",
              "          element.innerHTML = '';\n",
              "          dataTable['output_type'] = 'display_data';\n",
              "          await google.colab.output.renderOutput(dataTable, element);\n",
              "          const docLink = document.createElement('div');\n",
              "          docLink.innerHTML = docLinkHtml;\n",
              "          element.appendChild(docLink);\n",
              "        }\n",
              "      </script>\n",
              "    </div>\n",
              "  </div>\n",
              "  "
            ]
          },
          "metadata": {},
          "execution_count": 838
        }
      ]
    },
    {
      "cell_type": "code",
      "source": [
        " df.columns"
      ],
      "metadata": {
        "colab": {
          "base_uri": "https://localhost:8080/"
        },
        "id": "vUGaBPUAbNxD",
        "outputId": "ed7a2ee7-e3fd-460e-a62f-a3629b0e7d41"
      },
      "execution_count": null,
      "outputs": [
        {
          "output_type": "execute_result",
          "data": {
            "text/plain": [
              "Index(['Store', 'IsHoliday', 'Dept', 'Type', 'Temperature', 'Fuel_Price',\n",
              "       'MarkDown1', 'MarkDown2', 'MarkDown3', 'MarkDown4', 'MarkDown5', 'CPI',\n",
              "       'Unemployment', 'Sales'],\n",
              "      dtype='object')"
            ]
          },
          "metadata": {},
          "execution_count": 839
        }
      ]
    },
    {
      "cell_type": "code",
      "source": [
        "df1=df.copy()"
      ],
      "metadata": {
        "id": "I0KCiMW3DJr7"
      },
      "execution_count": null,
      "outputs": []
    },
    {
      "cell_type": "code",
      "source": [
        "df1.columns"
      ],
      "metadata": {
        "colab": {
          "base_uri": "https://localhost:8080/"
        },
        "id": "VnHPqgEHfxek",
        "outputId": "29b75961-566b-4d7b-d0b6-decdebd9151b"
      },
      "execution_count": null,
      "outputs": [
        {
          "output_type": "execute_result",
          "data": {
            "text/plain": [
              "Index(['Store', 'IsHoliday', 'Dept', 'Type', 'Temperature', 'Fuel_Price',\n",
              "       'MarkDown1', 'MarkDown2', 'MarkDown3', 'MarkDown4', 'MarkDown5', 'CPI',\n",
              "       'Unemployment', 'Sales'],\n",
              "      dtype='object')"
            ]
          },
          "metadata": {},
          "execution_count": 841
        }
      ]
    },
    {
      "cell_type": "code",
      "source": [
        "df1.info()"
      ],
      "metadata": {
        "colab": {
          "base_uri": "https://localhost:8080/"
        },
        "id": "LJ0L9dj_KqCU",
        "outputId": "be54ee85-fdb0-4bfe-de86-75c51d2b511e"
      },
      "execution_count": null,
      "outputs": [
        {
          "output_type": "stream",
          "name": "stdout",
          "text": [
            "<class 'pandas.core.frame.DataFrame'>\n",
            "RangeIndex: 196596 entries, 0 to 196595\n",
            "Data columns (total 14 columns):\n",
            " #   Column        Non-Null Count   Dtype  \n",
            "---  ------        --------------   -----  \n",
            " 0   Store         196596 non-null  int64  \n",
            " 1   IsHoliday     196596 non-null  int64  \n",
            " 2   Dept          196596 non-null  int64  \n",
            " 3   Type          196596 non-null  int64  \n",
            " 4   Temperature   196596 non-null  float64\n",
            " 5   Fuel_Price    196596 non-null  float64\n",
            " 6   MarkDown1     196596 non-null  float64\n",
            " 7   MarkDown2     196596 non-null  float64\n",
            " 8   MarkDown3     196596 non-null  float64\n",
            " 9   MarkDown4     196596 non-null  float64\n",
            " 10  MarkDown5     196596 non-null  float64\n",
            " 11  CPI           196596 non-null  float64\n",
            " 12  Unemployment  196596 non-null  float64\n",
            " 13  Sales         196596 non-null  float64\n",
            "dtypes: float64(10), int64(4)\n",
            "memory usage: 21.0 MB\n"
          ]
        }
      ]
    },
    {
      "cell_type": "code",
      "source": [
        "x=df1.iloc[0:10000,0:13].values\n",
        "print(x)"
      ],
      "metadata": {
        "id": "WFPzavyIbUwD",
        "colab": {
          "base_uri": "https://localhost:8080/"
        },
        "outputId": "01c5b4b4-3daa-46f2-9bb9-2e1e84aebdeb"
      },
      "execution_count": null,
      "outputs": [
        {
          "output_type": "stream",
          "name": "stdout",
          "text": [
            "[[1.00000000e+00 0.00000000e+00 1.00000000e+00 ... 0.00000000e+00\n",
            "  2.11096358e+02 8.10600000e+00]\n",
            " [1.00000000e+00 0.00000000e+00 2.60000000e+01 ... 0.00000000e+00\n",
            "  2.11096358e+02 8.10600000e+00]\n",
            " [1.00000000e+00 0.00000000e+00 1.70000000e+01 ... 0.00000000e+00\n",
            "  2.11096358e+02 8.10600000e+00]\n",
            " ...\n",
            " [1.00000000e+00 0.00000000e+00 5.00000000e+00 ... 3.62614000e+03\n",
            "  2.23181477e+02 6.57300000e+00]\n",
            " [1.00000000e+00 0.00000000e+00 9.20000000e+01 ... 3.62614000e+03\n",
            "  2.23181477e+02 6.57300000e+00]\n",
            " [1.00000000e+00 0.00000000e+00 2.60000000e+01 ... 3.62614000e+03\n",
            "  2.23181477e+02 6.57300000e+00]]\n"
          ]
        }
      ]
    },
    {
      "cell_type": "code",
      "source": [
        "y=df1.iloc[0:10000, 13].values\n",
        "print(y)"
      ],
      "metadata": {
        "id": "EC6UMLhybejN",
        "colab": {
          "base_uri": "https://localhost:8080/"
        },
        "outputId": "eac6560f-16a1-4efa-cf98-383900dd1858"
      },
      "execution_count": null,
      "outputs": [
        {
          "output_type": "stream",
          "name": "stdout",
          "text": [
            "[ 24924.5   11737.12  13223.76 ...  25508.81 159459.88   8784.99]\n"
          ]
        }
      ]
    },
    {
      "cell_type": "code",
      "source": [
        "x_train, x_test, y_train, y_test= train_test_split(x,y, test_size=0.2, random_state=42)"
      ],
      "metadata": {
        "id": "Tm2Bw78QbsNz"
      },
      "execution_count": null,
      "outputs": []
    },
    {
      "cell_type": "code",
      "source": [
        "x_train"
      ],
      "metadata": {
        "colab": {
          "base_uri": "https://localhost:8080/"
        },
        "id": "EYp6f7jIcO6M",
        "outputId": "599c0219-4f56-4de8-f064-59784d56f025"
      },
      "execution_count": null,
      "outputs": [
        {
          "output_type": "execute_result",
          "data": {
            "text/plain": [
              "array([[1.00000000e+00, 0.00000000e+00, 3.10000000e+01, ...,\n",
              "        4.32519000e+03, 2.21941295e+02, 6.90800000e+00],\n",
              "       [1.00000000e+00, 0.00000000e+00, 4.00000000e+00, ...,\n",
              "        0.00000000e+00, 2.11223533e+02, 7.78700000e+00],\n",
              "       [1.00000000e+00, 0.00000000e+00, 2.60000000e+01, ...,\n",
              "        0.00000000e+00, 2.11100385e+02, 7.78700000e+00],\n",
              "       ...,\n",
              "       [1.00000000e+00, 0.00000000e+00, 8.20000000e+01, ...,\n",
              "        0.00000000e+00, 2.15361109e+02, 7.96200000e+00],\n",
              "       [1.00000000e+00, 0.00000000e+00, 1.00000000e+01, ...,\n",
              "        0.00000000e+00, 2.10439123e+02, 7.80800000e+00],\n",
              "       [1.00000000e+00, 0.00000000e+00, 4.10000000e+01, ...,\n",
              "        3.71938000e+03, 2.19892526e+02, 7.34800000e+00]])"
            ]
          },
          "metadata": {},
          "execution_count": 846
        }
      ]
    },
    {
      "cell_type": "code",
      "source": [
        "x_test"
      ],
      "metadata": {
        "colab": {
          "base_uri": "https://localhost:8080/"
        },
        "id": "Xu8Dd7B0cQ6T",
        "outputId": "81fdea93-4fdd-4bba-b2f8-471f801cbd41"
      },
      "execution_count": null,
      "outputs": [
        {
          "output_type": "execute_result",
          "data": {
            "text/plain": [
              "array([[1.00000000e+00, 0.00000000e+00, 1.60000000e+01, ...,\n",
              "        0.00000000e+00, 2.17045368e+02, 7.86600000e+00],\n",
              "       [1.00000000e+00, 0.00000000e+00, 4.00000000e+00, ...,\n",
              "        0.00000000e+00, 2.15796004e+02, 7.68200000e+00],\n",
              "       [1.00000000e+00, 0.00000000e+00, 3.00000000e+00, ...,\n",
              "        0.00000000e+00, 2.11235144e+02, 7.78700000e+00],\n",
              "       ...,\n",
              "       [1.00000000e+00, 0.00000000e+00, 5.60000000e+01, ...,\n",
              "        5.50984000e+03, 2.21059189e+02, 7.34800000e+00],\n",
              "       [1.00000000e+00, 0.00000000e+00, 1.30000000e+01, ...,\n",
              "        0.00000000e+00, 2.10617093e+02, 7.80800000e+00],\n",
              "       [1.00000000e+00, 0.00000000e+00, 8.10000000e+01, ...,\n",
              "        1.44618200e+04, 2.18961846e+02, 7.86600000e+00]])"
            ]
          },
          "metadata": {},
          "execution_count": 847
        }
      ]
    },
    {
      "cell_type": "code",
      "source": [
        "y_train"
      ],
      "metadata": {
        "colab": {
          "base_uri": "https://localhost:8080/"
        },
        "id": "ip2BymErcT6c",
        "outputId": "37b42b1e-542b-4f41-e423-766b5bfbe4f3"
      },
      "execution_count": null,
      "outputs": [
        {
          "output_type": "execute_result",
          "data": {
            "text/plain": [
              "array([ 3477.27, 39773.71,  5830.68, ..., 18346.17, 29091.15,   297.5 ])"
            ]
          },
          "metadata": {},
          "execution_count": 848
        }
      ]
    },
    {
      "cell_type": "code",
      "source": [
        "y_test"
      ],
      "metadata": {
        "colab": {
          "base_uri": "https://localhost:8080/"
        },
        "id": "346eSoH_cVcL",
        "outputId": "0f5e222e-a20e-4d9d-9ae6-45bdf4800c35"
      },
      "execution_count": null,
      "outputs": [
        {
          "output_type": "execute_result",
          "data": {
            "text/plain": [
              "array([14309.01, 37827.69, 16930.62, ...,  8541.45, 38569.83, 29622.19])"
            ]
          },
          "metadata": {},
          "execution_count": 849
        }
      ]
    },
    {
      "cell_type": "code",
      "source": [
        "from sklearn.feature_selection import SelectKBest, f_regression\n",
        "k_best = SelectKBest(score_func=f_regression)  # You can also use a different score_func depending on your problem\n",
        "x_train_kbest = k_best.fit_transform(x_train_scaled, y_train_scaled.ravel())\n",
        "x_test_kbest = k_best.transform(x_test_scaled)\n"
      ],
      "metadata": {
        "id": "AIcnkpczzikJ"
      },
      "execution_count": null,
      "outputs": []
    },
    {
      "cell_type": "code",
      "source": [
        "# Get the selected feature indices\n",
        "selected_feature_indices = k_best.get_support(indices=True)\n",
        "print(selected_feature_indices)\n"
      ],
      "metadata": {
        "colab": {
          "base_uri": "https://localhost:8080/"
        },
        "id": "4Vsn14CEziai",
        "outputId": "aa5d9568-bf79-446c-8e2c-0dda1d278e3b"
      },
      "execution_count": null,
      "outputs": [
        {
          "output_type": "stream",
          "name": "stdout",
          "text": [
            "[ 1  2  4  5  6  8  9 10 11 12]\n"
          ]
        }
      ]
    },
    {
      "cell_type": "code",
      "source": [
        "from sklearn.preprocessing import StandardScaler\n",
        "ss_x=StandardScaler()\n",
        "ss_y=StandardScaler()\n",
        "x_train_scaled=ss_x.fit_transform(x_train)\n",
        "x_test_scaled=ss_x.fit_transform(x_test)\n",
        "y_train_scaled=ss_y.fit_transform(y_train.reshape(-1, 1))\n",
        "y_test_scaled=ss_y.fit_transform(y_test.reshape(-1, 1))"
      ],
      "metadata": {
        "id": "iZM5V1fYqYwn"
      },
      "execution_count": null,
      "outputs": []
    },
    {
      "cell_type": "code",
      "source": [
        "print(x_train_scaled.shape)\n",
        "print(x_test_scaled.shape)\n",
        "print(y_train_scaled.shape)\n",
        "print(y_test_scaled.shape)"
      ],
      "metadata": {
        "colab": {
          "base_uri": "https://localhost:8080/"
        },
        "id": "X_SMoKH5moBu",
        "outputId": "4175f489-3ec5-4f7c-8bb7-5a6553cccf50"
      },
      "execution_count": null,
      "outputs": [
        {
          "output_type": "stream",
          "name": "stdout",
          "text": [
            "(8000, 13)\n",
            "(2000, 13)\n",
            "(8000, 1)\n",
            "(2000, 1)\n"
          ]
        }
      ]
    },
    {
      "cell_type": "code",
      "source": [
        "from sklearn.svm import SVR\n",
        "regressor=SVR(kernel='rbf')\n",
        "regressor.fit(x_train_scaled, y_train_scaled.ravel())  #\n",
        "pred=regressor.predict(x_test_scaled)\n",
        "y_pred=ss_y.inverse_transform(pred.reshape(-1, 1)) \n",
        "y_pred_test=ss_y.inverse_transform(y_test_scaled.reshape(-1, 1))   \n",
        "print(y_pred)"
      ],
      "metadata": {
        "colab": {
          "base_uri": "https://localhost:8080/"
        },
        "id": "-Wtj-hnEcW4j",
        "outputId": "9e79bbc1-8c9f-45bd-f96a-a055f01d3e6e"
      },
      "execution_count": null,
      "outputs": [
        {
          "output_type": "stream",
          "name": "stdout",
          "text": [
            "[[15182.38084857]\n",
            " [24370.87333559]\n",
            " [23752.09838341]\n",
            " ...\n",
            " [ 6427.68325967]\n",
            " [16864.1422941 ]\n",
            " [20558.67213786]]\n"
          ]
        }
      ]
    },
    {
      "cell_type": "code",
      "source": [
        "from sklearn.metrics import r2_score\n",
        "score=r2_score(y_pred_test, y_pred)*100\n",
        "print(score)"
      ],
      "metadata": {
        "colab": {
          "base_uri": "https://localhost:8080/"
        },
        "id": "dJV1UiiNc2yz",
        "outputId": "06a51480-6801-4ea4-f7a8-afff74a3ab59"
      },
      "execution_count": null,
      "outputs": [
        {
          "output_type": "stream",
          "name": "stdout",
          "text": [
            "28.62095991579\n"
          ]
        }
      ]
    },
    {
      "cell_type": "code",
      "source": [
        "#Gradient Boosting Regression and Score\n",
        "from sklearn.ensemble import GradientBoostingRegressor\n",
        "grb = GradientBoostingRegressor()\n",
        "grb.fit(x_train, y_train.ravel())\n",
        "Gpred = grb.predict(x_test)\n",
        "# print(y_pred)\n"
      ],
      "metadata": {
        "id": "rU1jLC80dFWj"
      },
      "execution_count": null,
      "outputs": []
    },
    {
      "cell_type": "code",
      "source": [
        "sc2=r2_score(y_test,Gpred)\n",
        "print('Score of Gradient Boosting Regression:',sc2)"
      ],
      "metadata": {
        "colab": {
          "base_uri": "https://localhost:8080/"
        },
        "id": "OldnYEDrWUkd",
        "outputId": "0a4556f2-f691-4f28-cc08-d4d5dd0bf07d"
      },
      "execution_count": null,
      "outputs": [
        {
          "output_type": "stream",
          "name": "stdout",
          "text": [
            "Score of Gradient Boosting Regression: 0.9169163470018411\n"
          ]
        }
      ]
    },
    {
      "cell_type": "code",
      "source": [
        "# from sklearn.preprocessing import MinMaxScaler\n",
        "# norm=MinMaxScaler()\n",
        "# df[\"new_Store\"]=norm.fit_transform(df[[\"Store\"]])\n",
        "# df[\"new_IsHoliday\"]=norm.fit_transform(df[[\"IsHoliday\"]])\n",
        "# df[\"new_Dept\"]=norm.fit_transform(df[[\"Dept\"]])\n",
        "# df[\"new_Type\"]=norm.fit_transform(df[[\"Type\"]])\n",
        "# df[\"new_Temperature\"]=norm.fit_transform(df[[\"Temperature\"]])\n",
        "# df[\"new_Fuel_Price\"]=norm.fit_transform(df[[\"Fuel_Price\"]])\n",
        "# df[\"new_MarkDown1\"]=norm.fit_transform(df[[\"MarkDown1\"]])\n",
        "# df[\"new_MarkDown2\"]=norm.fit_transform(df[[\"MarkDown2\"]])\n",
        "# df[\"new_MarkDown3\"]=norm.fit_transform(df[[\"MarkDown3\"]])\n",
        "# df[\"new_MarkDown4\"]=norm.fit_transform(df[[\"MarkDown4\"]])\n",
        "# df[\"new_MarkDown5\"]=norm.fit_transform(df[[\"MarkDown5\"]])\n",
        "# df[\"new_CPI\"]=norm.fit_transform(df[[\"CPI\"]])\n",
        "# df[\"new_Unemployment\"]=norm.fit_transform(df[[\"Unemployment\"]])\n",
        "# df[\"new_Sales\"]=norm.fit_transform(df[[\"Sales\"]])\n",
        "# df.head()\n"
      ],
      "metadata": {
        "id": "C25GDJgEj8iO"
      },
      "execution_count": null,
      "outputs": []
    },
    {
      "cell_type": "code",
      "source": [
        "# #Subset the original features based on the selected indices\n",
        "# selected_features = x.columns[selected_feature_indices]\n",
        "# print(selected_features)"
      ],
      "metadata": {
        "id": "8mQ2342e0G2h"
      },
      "execution_count": null,
      "outputs": []
    },
    {
      "cell_type": "code",
      "source": [],
      "metadata": {
        "id": "_kXxzHFGouxn"
      },
      "execution_count": null,
      "outputs": []
    }
  ]
}